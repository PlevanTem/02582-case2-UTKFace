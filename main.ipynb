{
 "cells": [
  {
   "cell_type": "code",
   "execution_count": 14,
   "metadata": {},
   "outputs": [],
   "source": [
    "import torch\n",
    "import torch.utils.data as Data\n",
    "import torch.nn.functional as F\n",
    "import zipfile\n",
    "import pandas as pd\n",
    "import numpy as np\n",
    "import matplotlib.pyplot as plt\n",
    "import cv2\n",
    "import os\n",
    "\n",
    "from IPython.display import Image\n",
    "from IPython.display import display\n",
    "from PIL import Image\n",
    "from sklearn.model_selection import train_test_split\n",
    "from sklearn.preprocessing import LabelEncoder\n",
    "from sklearn.metrics import confusion_matrix, ConfusionMatrixDisplay, accuracy_score\n",
    "\n",
    "%matplotlib inline\n"
   ]
  },
  {
   "cell_type": "code",
   "execution_count": 2,
   "metadata": {},
   "outputs": [
    {
     "name": "stdout",
     "output_type": "stream",
     "text": [
      "File count:  23705\n"
     ]
    },
    {
     "data": {
      "text/plain": [
       "<matplotlib.image.AxesImage at 0x7fd62e4f8ca0>"
      ]
     },
     "execution_count": 2,
     "metadata": {},
     "output_type": "execute_result"
    },
    {
     "data": {
      "image/png": "[encoded data removed]",
      "text/plain": [
       "<Figure size 432x288 with 1 Axes>"
      ]
     },
     "metadata": {
      "needs_background": "light"
     },
     "output_type": "display_data"
    }
   ],
   "source": [
    "def imshow(img):\n",
    "    plt.imshow(img, interpolation='bicubic')\n",
    "    plt.xticks([]), plt.yticks([])\n",
    "    plt.show()\n",
    "\n",
    "\n",
    "dir_ = 'data/Faces'\n",
    "count = 0\n",
    "for path in os.listdir(dir_):\n",
    "    if os.path.isfile(os.path.join(dir_, path)):\n",
    "        count += 1\n",
    "print('File count: ', count)\n",
    "\n",
    "# get all file names\n",
    "onlyfiles = os.listdir(dir_)\n",
    "# reoder the only files based on value\n",
    "onlyfiles = sorted(onlyfiles, key=lambda x: int(x[:-4]))\n",
    "\n",
    "X_data = []\n",
    "for file in onlyfiles:\n",
    "    face = cv2.imread(dir_+'/' + file)\n",
    "    face = cv2.cvtColor(face, cv2.COLOR_BGR2GRAY)\n",
    "    face = cv2.resize(face, (64, 64))\n",
    "    # face = cv2.resize(face, (200, 200))\n",
    "    X_data.append(face)\n",
    "X_data = np.array(X_data)\n",
    "X_data.shape\n",
    "\n",
    "X = np.squeeze(X_data)\n",
    "plt.imshow(X[0], cmap=\"gray\")\n"
   ]
  },
  {
   "cell_type": "markdown",
   "metadata": {},
   "source": [
    "## Prepare train and test set"
   ]
  },
  {
   "cell_type": "code",
   "execution_count": 4,
   "metadata": {},
   "outputs": [],
   "source": [
    "path_data = \"labels_with_age_group.csv\"\n",
    "data = pd.read_csv(path_data)\n",
    "\n",
    "encoder = LabelEncoder()\n",
    "encoder.fit(data[\"age_group\"].unique())\n",
    "Y = encoder.transform(data[\"age_group\"])"
   ]
  },
  {
   "cell_type": "code",
   "execution_count": 114,
   "metadata": {},
   "outputs": [
    {
     "data": {
      "text/plain": [
       "(23705, 1, 64, 64)"
      ]
     },
     "execution_count": 114,
     "metadata": {},
     "output_type": "execute_result"
    }
   ],
   "source": [
    "X = X_data\n",
    "X.resize((23705,1, 64, 64))\n",
    "X.shape"
   ]
  },
  {
   "cell_type": "code",
   "execution_count": 115,
   "metadata": {},
   "outputs": [],
   "source": [
    "\n",
    "\n",
    "X_train, X_test, y_train, y_test = train_test_split(X, Y, test_size=0.20, random_state=42)\n",
    "\n",
    "X_train, X_val, y_train, y_val = train_test_split(X_train, y_train, test_size=0.10, random_state=42)\n",
    "\n",
    "X_train = torch.tensor(X_train, dtype=torch.float)\n",
    "X_test = torch.tensor(X_test, dtype=torch.float)\n",
    "X_val = torch.tensor(X_val, dtype=torch.float)\n",
    "y_train = torch.tensor(y_train, dtype=torch.long).squeeze()\n",
    "y_test = torch.tensor(y_test, dtype=torch.long).squeeze()\n",
    "y_val = torch.tensor(y_val, dtype=torch.long).squeeze()"
   ]
  },
  {
   "cell_type": "code",
   "execution_count": 116,
   "metadata": {},
   "outputs": [
    {
     "data": {
      "text/plain": [
       "array([0, 1, 2, 3, 4, 5])"
      ]
     },
     "execution_count": 116,
     "metadata": {},
     "output_type": "execute_result"
    }
   ],
   "source": [
    "np.unique(Y)"
   ]
  },
  {
   "cell_type": "markdown",
   "metadata": {},
   "source": [
    "## Setup loader"
   ]
  },
  {
   "cell_type": "code",
   "execution_count": 117,
   "metadata": {},
   "outputs": [],
   "source": [
    "BATCH_SIZE = 50\n",
    "\n",
    "\n",
    "# set up a loader for training and test data\n",
    "train_dataset = Data.TensorDataset(X_train, y_train)\n",
    "train_loader = Data.DataLoader(\n",
    "    dataset=train_dataset,\n",
    "    batch_size=BATCH_SIZE,\n",
    "    shuffle=True)\n",
    "\n",
    "val_dataset = Data.TensorDataset(X_val, y_val)\n",
    "val_loader = Data.DataLoader(\n",
    "    dataset=val_dataset,\n",
    "    batch_size=BATCH_SIZE,\n",
    "    shuffle=False)\n",
    "\n",
    "test_dataset = Data.TensorDataset(X_test, y_test)\n",
    "test_loader = Data.DataLoader(\n",
    "    dataset=test_dataset,\n",
    "    batch_size=BATCH_SIZE,\n",
    "    shuffle=False)\n"
   ]
  },
  {
   "cell_type": "markdown",
   "metadata": {},
   "source": [
    "## Architecture Design -- CNN"
   ]
  },
  {
   "cell_type": "code",
   "execution_count": 73,
   "metadata": {},
   "outputs": [],
   "source": [
    "class netWork(torch.nn.Module):\n",
    "    def __init__(self):\n",
    "        super(netWork, self).__init__()\n",
    "\n",
    "        self.cnn_layers = torch.nn.Sequential(\n",
    "            # Defining a 2D convolution layer\n",
    "            torch.nn.Conv2d(1, 32, kernel_size=(3,3)),\n",
    "            torch.nn.ReLU(inplace=True),\n",
    "            torch.nn.MaxPool2d(kernel_size=(2,2)),\n",
    "            \n",
    "            # Defining a 2D convolution layer\n",
    "            torch.nn.Conv2d(32, 64, kernel_size=(3,3)),\n",
    "            torch.nn.ReLU(inplace=True),\n",
    "            torch.nn.MaxPool2d(kernel_size=(2,2)),\n",
    "\n",
    "            # Defining another 2D convolution layer\n",
    "            torch.nn.Conv2d(64, 128, kernel_size=(3,3)),\n",
    "            torch.nn.ReLU(inplace=True),\n",
    "            torch.nn.MaxPool2d(kernel_size=(2,2)),\n",
    "            torch.nn.Dropout(p = 0.5, inplace = True)\n",
    "\n",
    "        )\n",
    "\n",
    "        self.linear_layers = torch.nn.Sequential(\n",
    "            torch.nn.Linear(4608, 6)\n",
    "        )\n",
    "\n",
    "    # Defining the forward pass\n",
    "    def forward(self, x):\n",
    "        x = self.cnn_layers(x)\n",
    "        # print(x.shape)\n",
    "        x = x.view(x.size(0), -1)\n",
    "        x = self.linear_layers(x)\n",
    "        return x\n",
    "\n",
    "\n",
    "\n",
    "learning_rate = 0.001\n",
    "    \n",
    "model = netWork()     # define the network\n",
    "optimizer = torch.optim.Adam(model.parameters(), lr=learning_rate)\n",
    "loss_func = torch.nn.CrossEntropyLoss()"
   ]
  },
  {
   "cell_type": "markdown",
   "metadata": {},
   "source": [
    "## Early stopping"
   ]
  },
  {
   "cell_type": "code",
   "execution_count": 51,
   "metadata": {},
   "outputs": [],
   "source": [
    "# from https://gist.github.com/stefanonardo/693d96ceb2f531fa05db530f3e21517d\n",
    "\n",
    "class EarlyStopping(object):\n",
    "    def __init__(self, mode='min', min_delta=0, patience=10, percentage=False):\n",
    "        self.mode = mode\n",
    "        self.min_delta = min_delta\n",
    "        self.patience = patience\n",
    "        self.best = None\n",
    "        self.bestModel = None\n",
    "        self.num_bad_epochs = 0\n",
    "        self.is_better = None\n",
    "        self._init_is_better(mode, min_delta, percentage)\n",
    "\n",
    "        if patience == 0:\n",
    "            self.is_better = lambda a, b: True\n",
    "            self.step = lambda a: False\n",
    "\n",
    "    def step(self, metrics, curmodel):\n",
    "        if self.best is None:\n",
    "            self.best = metrics\n",
    "            self.bestModel = curmodel\n",
    "            return False\n",
    "\n",
    "        if torch.isnan(metrics):\n",
    "            return True\n",
    "\n",
    "        if self.is_better(metrics, self.best):\n",
    "            self.num_bad_epochs = 0\n",
    "            self.best = metrics\n",
    "            self.bestModel = curmodel\n",
    "        else:\n",
    "            self.num_bad_epochs += 1\n",
    "\n",
    "        if self.num_bad_epochs >= self.patience:\n",
    "            return True\n",
    "\n",
    "        return False\n",
    "\n",
    "    def _init_is_better(self, mode, min_delta, percentage):\n",
    "        if mode not in {'min', 'max'}:\n",
    "            raise ValueError('mode ' + mode + ' is unknown!')\n",
    "        if not percentage:\n",
    "            if mode == 'min':\n",
    "                self.is_better = lambda a, best: a < best - min_delta\n",
    "            if mode == 'max':\n",
    "                self.is_better = lambda a, best: a > best + min_delta\n",
    "        else:\n",
    "            if mode == 'min':\n",
    "                self.is_better = lambda a, best: a < best - (\n",
    "                            best * min_delta / 100)\n",
    "            if mode == 'max':\n",
    "                self.is_better = lambda a, best: a > best + (\n",
    "                            best * min_delta / 100)\n",
    "                \n",
    "\n",
    "                \n",
    "# play around with patience\n",
    "# The early stopping module takes in the following parameters\n",
    "# mode='min' / 'max' - whether smaller or lager is better\n",
    "# min_delta=0 - a delta that can be used to make early stopping more or less lenient when evaulating \"bad\" epochs\n",
    "# patience=10 - how many \"bad\" epochs that are allowed(epoches with worse score than the current best)\n",
    "# percentage=False / True - whether the criterion is in percentage or not\n",
    "earlyStopping = EarlyStopping(patience=5)"
   ]
  },
  {
   "cell_type": "code",
   "execution_count": 52,
   "metadata": {},
   "outputs": [
    {
     "name": "stdout",
     "output_type": "stream",
     "text": [
      "Exited due to early stopping\n"
     ]
    },
    {
     "data": {
      "image/png": "[encoded data removed]",
      "text/plain": [
       "<Figure size 720x504 with 1 Axes>"
      ]
     },
     "metadata": {
      "needs_background": "light"
     },
     "output_type": "display_data"
    }
   ],
   "source": [
    "EPOCH = 50\n",
    "fig, ax = plt.subplots(figsize=(10,7))\n",
    "\n",
    "# train the network\n",
    "train_loss_graph = []\n",
    "val_loss_graph = []\n",
    "test_loss_graph = []\n",
    "for epoch in range(EPOCH):\n",
    "    train_loss_tot = 0 # Save for plotting\n",
    "    model.train() # prepare model for training\n",
    "    for s, (inputs_, targets_) in enumerate(train_loader): # for each training step\n",
    "        \n",
    "        predictions = model(inputs_)     # input x and predict based on x\n",
    "        \n",
    "        loss = loss_func(predictions, targets_)   # compute the loss. must be (1. nn output, 2. target)\n",
    "        \n",
    "        optimizer.zero_grad()   # clear gradients for next train\n",
    "        loss.backward()         # backpropagation, compute gradients\n",
    "        optimizer.step()        # apply gradients \n",
    "\n",
    "        #save the loss for plotting\n",
    "        train_loss_tot += loss.item() * inputs_.shape[0] #Multiply with the current batchsize to get pr. sample loss\n",
    "    \n",
    "    val_loss_tot = 0 # Save for plotting\n",
    "    model.eval() # prepare model for testing\n",
    "    for s, (inputs_, targets_) in enumerate(val_loader): # for each testing batch\n",
    "                \n",
    "        predictions = model(inputs_)     # input x and predict based on x\n",
    "    \n",
    "        loss = loss_func(predictions, targets_)  # compute the loss. must be (1. nn output, 2. target)\n",
    "\n",
    "        #save the loss for plotting\n",
    "        val_loss_tot += loss.item() * inputs_.shape[0] #Multiply with the current batchsize to get pr. sample loss\n",
    "    \n",
    "    test_loss_tot = 0 # Save for plotting\n",
    "    for s, (inputs_, targets_) in enumerate(test_loader): # for each testing batch\n",
    "                \n",
    "        predictions = model(inputs_)     # input x and predict based on x\n",
    "    \n",
    "        loss = loss_func(predictions, targets_)  # compute the loss. must be (1. nn output, 2. target)\n",
    "\n",
    "        #save the loss for plotting\n",
    "        test_loss_tot += loss.item() * inputs_.shape[0] #Multiply with the current batchsize to get pr. sample loss\n",
    "        \n",
    "    train_loss_graph.append(train_loss_tot/len(train_dataset))\n",
    "    val_loss_graph.append(val_loss_tot/len(val_dataset))\n",
    "    test_loss_graph.append(test_loss_tot/len(test_dataset))\n",
    "\n",
    "    plt.cla()\n",
    "    # plot and show learning process\n",
    "    ax.set_title('Loss Analysis', fontsize=35)\n",
    "    ax.set_xlabel('epoch', fontsize=24)\n",
    "    ax.set_ylabel('Loss', fontsize=24)\n",
    "    x = np.arange(1,epoch+2)\n",
    "    \n",
    "    ax.plot(x, train_loss_graph, lw=3, label='Training loss')\n",
    "    ax.plot(x, val_loss_graph, lw=3, label='Validation loss')\n",
    "    ax.plot(x, test_loss_graph, lw=3, label='Test loss')\n",
    "    ax.legend()\n",
    "    fig.canvas.draw()       # draw the canvas, cache the renderer\n",
    "    \n",
    "    if earlyStopping.step(torch.tensor(val_loss_tot/len(val_dataset)),model):\n",
    "        print('Exited due to early stopping')\n",
    "        model = earlyStopping.bestModel\n",
    "        break  # early stop criterion is met, we can stop now"
   ]
  },
  {
   "cell_type": "code",
   "execution_count": 53,
   "metadata": {},
   "outputs": [
    {
     "data": {
      "text/plain": [
       "<sklearn.metrics._plot.confusion_matrix.ConfusionMatrixDisplay at 0x7fd62e680e50>"
      ]
     },
     "execution_count": 53,
     "metadata": {},
     "output_type": "execute_result"
    },
    {
     "data": {
      "image/png": "[encoded data removed]",
      "text/plain": [
       "<Figure size 432x288 with 2 Axes>"
      ]
     },
     "metadata": {
      "needs_background": "light"
     },
     "output_type": "display_data"
    }
   ],
   "source": [
    "preds_tot = torch.zeros(len(test_dataset),6)\n",
    "for s, (inputs_, _) in enumerate(test_loader): # for each testing batch\n",
    "                \n",
    "    predictions = model(inputs_)     # input x and predict based on x\n",
    "    \n",
    "    endIndex = (BATCH_SIZE*(s+1)) if (BATCH_SIZE*(s+1)) <= len(test_dataset) else len(test_dataset)\n",
    "    preds_tot[(BATCH_SIZE*s):endIndex,:] = predictions.data\n",
    "    \n",
    "preds = np.argmax(preds_tot,axis=1)\n",
    "cm = confusion_matrix(y_test,preds)\n",
    "disp = ConfusionMatrixDisplay(confusion_matrix=cm)\n",
    "disp.plot()"
   ]
  },
  {
   "cell_type": "code",
   "execution_count": 54,
   "metadata": {},
   "outputs": [
    {
     "data": {
      "text/plain": [
       "0.5614849187935035"
      ]
     },
     "execution_count": 54,
     "metadata": {},
     "output_type": "execute_result"
    }
   ],
   "source": [
    "accuracy_score(y_test, preds)"
   ]
  },
  {
   "cell_type": "code",
   "execution_count": 61,
   "metadata": {},
   "outputs": [],
   "source": [
    "torch.save(model.state_dict(), \"CNN_parameter\")\n"
   ]
  },
  {
   "cell_type": "markdown",
   "metadata": {},
   "source": [
    "## Architecture Design -- ANN"
   ]
  },
  {
   "cell_type": "code",
   "execution_count": 118,
   "metadata": {},
   "outputs": [],
   "source": [
    "# ann with 2 layers\n",
    "class netWork(torch.nn.Module):\n",
    "    def __init__(self, n_feature, n_hidden_layer, n_output):\n",
    "        super(netWork, self).__init__()\n",
    "\n",
    "        # Linear function 1: 784 --> 150\n",
    "        self.fc1 = torch.nn.Linear(n_feature, n_hidden_layer)\n",
    "        # Non-linearity 1\n",
    "        self.relu1 = torch.nn.ReLU()\n",
    "         \n",
    "        # Linear function 2: 150 --> 150\n",
    "        self.fc2 = torch.nn.Linear(n_hidden_layer, n_hidden_layer)\n",
    "        # Non-linearity 2\n",
    "        self.tanh2 = torch.nn.Tanh()\n",
    "         \n",
    "        # Linear function 3: 150 --> 150\n",
    "        self.fc3 = torch.nn.Linear(n_hidden_layer, n_hidden_layer)\n",
    "        # Non-linearity 3\n",
    "        self.elu3 = torch.nn.ELU()\n",
    "         \n",
    "        # Linear function 4 (readout): 150 --> 10\n",
    "        self.fc4 = torch.nn.Linear(n_hidden_layer, n_output) \n",
    "     \n",
    "    def forward(self, x):\n",
    "        # Linear function 1\n",
    "        out = self.fc1(x)\n",
    "        # Non-linearity 1\n",
    "        out = self.relu1(out)\n",
    "         \n",
    "        # Linear function 2\n",
    "        out = self.fc2(out)\n",
    "        # Non-linearity 2\n",
    "        out = self.tanh2(out)\n",
    "         \n",
    "        # Linear function 2\n",
    "        out = self.fc3(out)\n",
    "        # Non-linearity 2\n",
    "        out = self.elu3(out)\n",
    "         \n",
    "        # Linear function 4 (readout)\n",
    "        out = self.fc4(out)\n",
    "\n",
    "        print(out)\n",
    "        return out\n",
    "\n",
    "num_classes= 6\n",
    "number_of_features = 64\n",
    "n_hidden_layers = 128\n",
    "learning_rate = 0.001\n",
    "    \n",
    "model = netWork(n_feature=number_of_features, n_hidden_layer = n_hidden_layers, n_output=num_classes)     # define the network\n",
    "optimizer = torch.optim.Adam(model.parameters(), lr=learning_rate)\n",
    "loss_func = torch.nn.CrossEntropyLoss()"
   ]
  },
  {
   "cell_type": "code",
   "execution_count": 119,
   "metadata": {},
   "outputs": [
    {
     "name": "stdout",
     "output_type": "stream",
     "text": [
      "tensor([[[[ 0.2253,  0.2822, -0.2234, -0.0078, -0.0050, -0.1870],\n",
      "          [ 0.1806,  0.2827, -0.0634, -0.0305,  0.0241, -0.1514],\n",
      "          [ 0.3113,  0.1571,  0.1149, -0.0893,  0.0527, -0.3280],\n",
      "          ...,\n",
      "          [ 0.2710,  0.2180,  0.2047,  0.1204, -0.0625, -0.0162],\n",
      "          [ 0.2700,  0.0797,  0.1647,  0.0559, -0.0723, -0.0039],\n",
      "          [ 0.2846,  0.1411,  0.1924,  0.1050, -0.0695, -0.0573]]],\n",
      "\n",
      "\n",
      "        [[[ 0.2012, -0.1029,  0.4046, -0.0350,  0.0682, -0.1569],\n",
      "          [ 0.1996, -0.0783,  0.4173, -0.0431,  0.0936, -0.2207],\n",
      "          [ 0.1843, -0.0602,  0.4098, -0.0205,  0.0984, -0.2195],\n",
      "          ...,\n",
      "          [ 0.1587,  0.1991,  0.0900,  0.2305, -0.3088, -0.3253],\n",
      "          [ 0.0748, -0.0261,  0.2183, -0.0209, -0.2129, -0.5182],\n",
      "          [ 0.0862, -0.1335,  0.1574, -0.0102, -0.2124, -0.5212]]],\n",
      "\n",
      "\n",
      "        [[[ 0.0336, -0.1784,  0.3309, -0.0064, -0.0315,  0.0837],\n",
      "          [ 0.1234, -0.1370,  0.3126, -0.0198,  0.0431,  0.0511],\n",
      "          [ 0.1013, -0.0342,  0.3812, -0.0056,  0.1242, -0.0707],\n",
      "          ...,\n",
      "          [-0.1020,  0.0260,  0.2878, -0.0967, -0.0433,  0.1086],\n",
      "          [-0.1477, -0.0249,  0.3297, -0.1165, -0.0598,  0.1082],\n",
      "          [-0.1545, -0.0053,  0.3115, -0.0981, -0.0544,  0.1139]]],\n",
      "\n",
      "\n",
      "        ...,\n",
      "\n",
      "\n",
      "        [[[ 0.1449,  0.1541,  0.4215, -0.0849,  0.0169, -0.2228],\n",
      "          [ 0.1678,  0.1289,  0.3965, -0.0538,  0.0572, -0.2879],\n",
      "          [ 0.1290,  0.1024,  0.3748, -0.1173,  0.0102, -0.2179],\n",
      "          ...,\n",
      "          [ 0.0922, -0.1960,  0.2893,  0.0783,  0.1193, -0.2165],\n",
      "          [ 0.1502, -0.4493,  0.1428, -0.1711,  0.1487, -0.3004],\n",
      "          [ 0.1379, -0.4061,  0.0815, -0.1238,  0.1439, -0.2524]]],\n",
      "\n",
      "\n",
      "        [[[ 0.1220,  0.2431, -0.0069,  0.5544, -0.1997, -0.1281],\n",
      "          [ 0.1131,  0.3068,  0.0971,  0.5868, -0.1634, -0.1741],\n",
      "          [ 0.1415,  0.2925,  0.1092,  0.5849, -0.1509, -0.2476],\n",
      "          ...,\n",
      "          [ 0.2539,  0.0810,  0.2519, -0.0294,  0.1156,  0.0033],\n",
      "          [ 0.2249, -0.0769,  0.2952,  0.0098,  0.1581, -0.1022],\n",
      "          [ 0.0940, -0.1951, -0.0549, -0.0410,  0.2652,  0.0423]]],\n",
      "\n",
      "\n",
      "        [[[ 0.1873,  0.0842,  0.4758, -0.1814,  0.0337, -0.1404],\n",
      "          [ 0.2083,  0.0976,  0.4861, -0.1650,  0.0385, -0.1626],\n",
      "          [ 0.2564,  0.1124,  0.4870, -0.1251,  0.0516, -0.2113],\n",
      "          ...,\n",
      "          [ 0.1871,  0.0729,  0.4321,  0.0990,  0.0757, -0.1264],\n",
      "          [ 0.1931,  0.0299,  0.3300, -0.0015,  0.1094, -0.2525],\n",
      "          [ 0.2749,  0.1205,  0.3302,  0.0427,  0.0778, -0.3079]]]],\n",
      "       grad_fn=<AddBackward0>)\n",
      "tensor([[[[ 0.2253,  0.2822, -0.2234, -0.0078, -0.0050, -0.1870],\n",
      "          [ 0.1806,  0.2827, -0.0634, -0.0305,  0.0241, -0.1514],\n",
      "          [ 0.3113,  0.1571,  0.1149, -0.0893,  0.0527, -0.3280],\n",
      "          ...,\n",
      "          [ 0.2710,  0.2180,  0.2047,  0.1204, -0.0625, -0.0162],\n",
      "          [ 0.2700,  0.0797,  0.1647,  0.0559, -0.0723, -0.0039],\n",
      "          [ 0.2846,  0.1411,  0.1924,  0.1050, -0.0695, -0.0573]]],\n",
      "\n",
      "\n",
      "        [[[ 0.2012, -0.1029,  0.4046, -0.0350,  0.0682, -0.1569],\n",
      "          [ 0.1996, -0.0783,  0.4173, -0.0431,  0.0936, -0.2207],\n",
      "          [ 0.1843, -0.0602,  0.4098, -0.0205,  0.0984, -0.2195],\n",
      "          ...,\n",
      "          [ 0.1587,  0.1991,  0.0900,  0.2305, -0.3088, -0.3253],\n",
      "          [ 0.0748, -0.0261,  0.2183, -0.0209, -0.2129, -0.5182],\n",
      "          [ 0.0862, -0.1335,  0.1574, -0.0102, -0.2124, -0.5212]]],\n",
      "\n",
      "\n",
      "        [[[ 0.0336, -0.1784,  0.3309, -0.0064, -0.0315,  0.0837],\n",
      "          [ 0.1234, -0.1370,  0.3126, -0.0198,  0.0431,  0.0511],\n",
      "          [ 0.1013, -0.0342,  0.3812, -0.0056,  0.1242, -0.0707],\n",
      "          ...,\n",
      "          [-0.1020,  0.0260,  0.2878, -0.0967, -0.0433,  0.1086],\n",
      "          [-0.1477, -0.0249,  0.3297, -0.1165, -0.0598,  0.1082],\n",
      "          [-0.1545, -0.0053,  0.3115, -0.0981, -0.0544,  0.1139]]],\n",
      "\n",
      "\n",
      "        ...,\n",
      "\n",
      "\n",
      "        [[[ 0.1449,  0.1541,  0.4215, -0.0849,  0.0169, -0.2228],\n",
      "          [ 0.1678,  0.1289,  0.3965, -0.0538,  0.0572, -0.2879],\n",
      "          [ 0.1290,  0.1024,  0.3748, -0.1173,  0.0102, -0.2179],\n",
      "          ...,\n",
      "          [ 0.0922, -0.1960,  0.2893,  0.0783,  0.1193, -0.2165],\n",
      "          [ 0.1502, -0.4493,  0.1428, -0.1711,  0.1487, -0.3004],\n",
      "          [ 0.1379, -0.4061,  0.0815, -0.1238,  0.1439, -0.2524]]],\n",
      "\n",
      "\n",
      "        [[[ 0.1220,  0.2431, -0.0069,  0.5544, -0.1997, -0.1281],\n",
      "          [ 0.1131,  0.3068,  0.0971,  0.5868, -0.1634, -0.1741],\n",
      "          [ 0.1415,  0.2925,  0.1092,  0.5849, -0.1509, -0.2476],\n",
      "          ...,\n",
      "          [ 0.2539,  0.0810,  0.2519, -0.0294,  0.1156,  0.0033],\n",
      "          [ 0.2249, -0.0769,  0.2952,  0.0098,  0.1581, -0.1022],\n",
      "          [ 0.0940, -0.1951, -0.0549, -0.0410,  0.2652,  0.0423]]],\n",
      "\n",
      "\n",
      "        [[[ 0.1873,  0.0842,  0.4758, -0.1814,  0.0337, -0.1404],\n",
      "          [ 0.2083,  0.0976,  0.4861, -0.1650,  0.0385, -0.1626],\n",
      "          [ 0.2564,  0.1124,  0.4870, -0.1251,  0.0516, -0.2113],\n",
      "          ...,\n",
      "          [ 0.1871,  0.0729,  0.4321,  0.0990,  0.0757, -0.1264],\n",
      "          [ 0.1931,  0.0299,  0.3300, -0.0015,  0.1094, -0.2525],\n",
      "          [ 0.2749,  0.1205,  0.3302,  0.0427,  0.0778, -0.3079]]]],\n",
      "       grad_fn=<AddBackward0>)\n"
     ]
    },
    {
     "ename": "RuntimeError",
     "evalue": "only batches of spatial targets supported (3D tensors) but got targets of dimension: 1",
     "output_type": "error",
     "traceback": [
      "\u001b[0;31m---------------------------------------------------------------------------\u001b[0m",
      "\u001b[0;31mRuntimeError\u001b[0m                              Traceback (most recent call last)",
      "\u001b[0;32m/tmp/ipykernel_20565/3050572885.py\u001b[0m in \u001b[0;36m<module>\u001b[0;34m\u001b[0m\n\u001b[1;32m     13\u001b[0m         \u001b[0mpredictions\u001b[0m \u001b[0;34m=\u001b[0m \u001b[0mmodel\u001b[0m\u001b[0;34m(\u001b[0m\u001b[0minputs_\u001b[0m\u001b[0;34m)\u001b[0m     \u001b[0;31m# input x and predict based on x\u001b[0m\u001b[0;34m\u001b[0m\u001b[0;34m\u001b[0m\u001b[0m\n\u001b[1;32m     14\u001b[0m         \u001b[0mprint\u001b[0m\u001b[0;34m(\u001b[0m\u001b[0mpredictions\u001b[0m\u001b[0;34m)\u001b[0m\u001b[0;34m\u001b[0m\u001b[0;34m\u001b[0m\u001b[0m\n\u001b[0;32m---> 15\u001b[0;31m         \u001b[0mloss\u001b[0m \u001b[0;34m=\u001b[0m \u001b[0mloss_func\u001b[0m\u001b[0;34m(\u001b[0m\u001b[0mpredictions\u001b[0m\u001b[0;34m,\u001b[0m \u001b[0mtargets_\u001b[0m\u001b[0;34m)\u001b[0m   \u001b[0;31m# compute the loss. must be (1. nn output, 2. target)\u001b[0m\u001b[0;34m\u001b[0m\u001b[0;34m\u001b[0m\u001b[0m\n\u001b[0m\u001b[1;32m     16\u001b[0m \u001b[0;34m\u001b[0m\u001b[0m\n\u001b[1;32m     17\u001b[0m         \u001b[0moptimizer\u001b[0m\u001b[0;34m.\u001b[0m\u001b[0mzero_grad\u001b[0m\u001b[0;34m(\u001b[0m\u001b[0;34m)\u001b[0m   \u001b[0;31m# clear gradients for next train\u001b[0m\u001b[0;34m\u001b[0m\u001b[0;34m\u001b[0m\u001b[0m\n",
      "\u001b[0;32m~/anaconda3/lib/python3.9/site-packages/torch/nn/modules/module.py\u001b[0m in \u001b[0;36m_call_impl\u001b[0;34m(self, *input, **kwargs)\u001b[0m\n\u001b[1;32m   1108\u001b[0m         if not (self._backward_hooks or self._forward_hooks or self._forward_pre_hooks or _global_backward_hooks\n\u001b[1;32m   1109\u001b[0m                 or _global_forward_hooks or _global_forward_pre_hooks):\n\u001b[0;32m-> 1110\u001b[0;31m             \u001b[0;32mreturn\u001b[0m \u001b[0mforward_call\u001b[0m\u001b[0;34m(\u001b[0m\u001b[0;34m*\u001b[0m\u001b[0minput\u001b[0m\u001b[0;34m,\u001b[0m \u001b[0;34m**\u001b[0m\u001b[0mkwargs\u001b[0m\u001b[0;34m)\u001b[0m\u001b[0;34m\u001b[0m\u001b[0;34m\u001b[0m\u001b[0m\n\u001b[0m\u001b[1;32m   1111\u001b[0m         \u001b[0;31m# Do not call functions when jit is used\u001b[0m\u001b[0;34m\u001b[0m\u001b[0;34m\u001b[0m\u001b[0m\n\u001b[1;32m   1112\u001b[0m         \u001b[0mfull_backward_hooks\u001b[0m\u001b[0;34m,\u001b[0m \u001b[0mnon_full_backward_hooks\u001b[0m \u001b[0;34m=\u001b[0m \u001b[0;34m[\u001b[0m\u001b[0;34m]\u001b[0m\u001b[0;34m,\u001b[0m \u001b[0;34m[\u001b[0m\u001b[0;34m]\u001b[0m\u001b[0;34m\u001b[0m\u001b[0;34m\u001b[0m\u001b[0m\n",
      "\u001b[0;32m~/anaconda3/lib/python3.9/site-packages/torch/nn/modules/loss.py\u001b[0m in \u001b[0;36mforward\u001b[0;34m(self, input, target)\u001b[0m\n\u001b[1;32m   1161\u001b[0m \u001b[0;34m\u001b[0m\u001b[0m\n\u001b[1;32m   1162\u001b[0m     \u001b[0;32mdef\u001b[0m \u001b[0mforward\u001b[0m\u001b[0;34m(\u001b[0m\u001b[0mself\u001b[0m\u001b[0;34m,\u001b[0m \u001b[0minput\u001b[0m\u001b[0;34m:\u001b[0m \u001b[0mTensor\u001b[0m\u001b[0;34m,\u001b[0m \u001b[0mtarget\u001b[0m\u001b[0;34m:\u001b[0m \u001b[0mTensor\u001b[0m\u001b[0;34m)\u001b[0m \u001b[0;34m->\u001b[0m \u001b[0mTensor\u001b[0m\u001b[0;34m:\u001b[0m\u001b[0;34m\u001b[0m\u001b[0;34m\u001b[0m\u001b[0m\n\u001b[0;32m-> 1163\u001b[0;31m         return F.cross_entropy(input, target, weight=self.weight,\n\u001b[0m\u001b[1;32m   1164\u001b[0m                                \u001b[0mignore_index\u001b[0m\u001b[0;34m=\u001b[0m\u001b[0mself\u001b[0m\u001b[0;34m.\u001b[0m\u001b[0mignore_index\u001b[0m\u001b[0;34m,\u001b[0m \u001b[0mreduction\u001b[0m\u001b[0;34m=\u001b[0m\u001b[0mself\u001b[0m\u001b[0;34m.\u001b[0m\u001b[0mreduction\u001b[0m\u001b[0;34m,\u001b[0m\u001b[0;34m\u001b[0m\u001b[0;34m\u001b[0m\u001b[0m\n\u001b[1;32m   1165\u001b[0m                                label_smoothing=self.label_smoothing)\n",
      "\u001b[0;32m~/anaconda3/lib/python3.9/site-packages/torch/nn/functional.py\u001b[0m in \u001b[0;36mcross_entropy\u001b[0;34m(input, target, weight, size_average, ignore_index, reduce, reduction, label_smoothing)\u001b[0m\n\u001b[1;32m   2994\u001b[0m     \u001b[0;32mif\u001b[0m \u001b[0msize_average\u001b[0m \u001b[0;32mis\u001b[0m \u001b[0;32mnot\u001b[0m \u001b[0;32mNone\u001b[0m \u001b[0;32mor\u001b[0m \u001b[0mreduce\u001b[0m \u001b[0;32mis\u001b[0m \u001b[0;32mnot\u001b[0m \u001b[0;32mNone\u001b[0m\u001b[0;34m:\u001b[0m\u001b[0;34m\u001b[0m\u001b[0;34m\u001b[0m\u001b[0m\n\u001b[1;32m   2995\u001b[0m         \u001b[0mreduction\u001b[0m \u001b[0;34m=\u001b[0m \u001b[0m_Reduction\u001b[0m\u001b[0;34m.\u001b[0m\u001b[0mlegacy_get_string\u001b[0m\u001b[0;34m(\u001b[0m\u001b[0msize_average\u001b[0m\u001b[0;34m,\u001b[0m \u001b[0mreduce\u001b[0m\u001b[0;34m)\u001b[0m\u001b[0;34m\u001b[0m\u001b[0;34m\u001b[0m\u001b[0m\n\u001b[0;32m-> 2996\u001b[0;31m     \u001b[0;32mreturn\u001b[0m \u001b[0mtorch\u001b[0m\u001b[0;34m.\u001b[0m\u001b[0m_C\u001b[0m\u001b[0;34m.\u001b[0m\u001b[0m_nn\u001b[0m\u001b[0;34m.\u001b[0m\u001b[0mcross_entropy_loss\u001b[0m\u001b[0;34m(\u001b[0m\u001b[0minput\u001b[0m\u001b[0;34m,\u001b[0m \u001b[0mtarget\u001b[0m\u001b[0;34m,\u001b[0m \u001b[0mweight\u001b[0m\u001b[0;34m,\u001b[0m \u001b[0m_Reduction\u001b[0m\u001b[0;34m.\u001b[0m\u001b[0mget_enum\u001b[0m\u001b[0;34m(\u001b[0m\u001b[0mreduction\u001b[0m\u001b[0;34m)\u001b[0m\u001b[0;34m,\u001b[0m \u001b[0mignore_index\u001b[0m\u001b[0;34m,\u001b[0m \u001b[0mlabel_smoothing\u001b[0m\u001b[0;34m)\u001b[0m\u001b[0;34m\u001b[0m\u001b[0;34m\u001b[0m\u001b[0m\n\u001b[0m\u001b[1;32m   2997\u001b[0m \u001b[0;34m\u001b[0m\u001b[0m\n\u001b[1;32m   2998\u001b[0m \u001b[0;34m\u001b[0m\u001b[0m\n",
      "\u001b[0;31mRuntimeError\u001b[0m: only batches of spatial targets supported (3D tensors) but got targets of dimension: 1"
     ]
    },
    {
     "data": {
      "image/png": "[encoded data removed]",
      "text/plain": [
       "<Figure size 720x504 with 1 Axes>"
      ]
     },
     "metadata": {
      "needs_background": "light"
     },
     "output_type": "display_data"
    }
   ],
   "source": [
    "EPOCH = 500\n",
    "fig, ax = plt.subplots(figsize=(10,7))\n",
    "\n",
    "# train the network\n",
    "train_loss_graph = []\n",
    "val_loss_graph = []\n",
    "test_loss_graph = []\n",
    "for epoch in range(EPOCH):\n",
    "    train_loss_tot = 0 # Save for plotting\n",
    "    model.train() # prepare model for training\n",
    "    for s, (inputs_, targets_) in enumerate(train_loader): # for each training step\n",
    "        \n",
    "        predictions = model(inputs_)     # input x and predict based on x\n",
    "        print(predictions)\n",
    "        loss = loss_func(predictions, targets_)   # compute the loss. must be (1. nn output, 2. target)\n",
    "        \n",
    "        optimizer.zero_grad()   # clear gradients for next train\n",
    "        loss.backward()         # backpropagation, compute gradients\n",
    "        optimizer.step()        # apply gradients \n",
    "\n",
    "        #save the loss for plotting\n",
    "        train_loss_tot += loss.item() * inputs_.shape[0] #Multiply with the current batchsize to get pr. sample loss\n",
    "    \n",
    "    val_loss_tot = 0 # Save for plotting\n",
    "    model.eval() # prepare model for testing\n",
    "    for s, (inputs_, targets_) in enumerate(val_loader): # for each testing batch\n",
    "                \n",
    "        predictions = model(inputs_)     # input x and predict based on x\n",
    "    \n",
    "        loss = loss_func(predictions, targets_)  # compute the loss. must be (1. nn output, 2. target)\n",
    "\n",
    "        #save the loss for plotting\n",
    "        val_loss_tot += loss.item() * inputs_.shape[0] #Multiply with the current batchsize to get pr. sample loss\n",
    "    \n",
    "    test_loss_tot = 0 # Save for plotting\n",
    "    for s, (inputs_, targets_) in enumerate(test_loader): # for each testing batch\n",
    "                \n",
    "        predictions = model(inputs_)     # input x and predict based on x\n",
    "    \n",
    "        loss = loss_func(predictions, targets_)  # compute the loss. must be (1. nn output, 2. target)\n",
    "\n",
    "        #save the loss for plotting\n",
    "        test_loss_tot += loss.item() * inputs_.shape[0] #Multiply with the current batchsize to get pr. sample loss\n",
    "        \n",
    "    train_loss_graph.append(train_loss_tot/len(train_dataset))\n",
    "    val_loss_graph.append(val_loss_tot/len(val_dataset))\n",
    "    test_loss_graph.append(test_loss_tot/len(test_dataset))\n",
    "\n",
    "    plt.cla()\n",
    "    # plot and show learning process\n",
    "    ax.set_title('Loss Analysis', fontsize=35)\n",
    "    ax.set_xlabel('epoch', fontsize=24)\n",
    "    ax.set_ylabel('Loss', fontsize=24)\n",
    "    x = np.arange(1,epoch+2)\n",
    "    \n",
    "    ax.plot(x, train_loss_graph, lw=3, label='Training loss')\n",
    "    ax.plot(x, val_loss_graph, lw=3, label='Validation loss')\n",
    "    ax.plot(x, test_loss_graph, lw=3, label='Test loss')\n",
    "    ax.legend()\n",
    "    fig.canvas.draw()       # draw the canvas, cache the renderer\n",
    "    \n",
    "    if earlyStopping.step(torch.tensor(val_loss_tot/len(val_dataset)),model):\n",
    "        print('Exited due to early stopping')\n",
    "        model = earlyStopping.bestModel\n",
    "        break  # early stop criterion is met, we can stop now"
   ]
  }
 ],
 "metadata": {
  "interpreter": {
   "hash": "fd86c469739d3b60296e2636d1f5f0010c60257cb13f211f4aa861f97cb4c09f"
  },
  "kernelspec": {
   "display_name": "Python 3.9.7 ('base')",
   "language": "python",
   "name": "python3"
  },
  "language_info": {
   "codemirror_mode": {
    "name": "ipython",
    "version": 3
   },
   "file_extension": ".py",
   "mimetype": "text/x-python",
   "name": "python",
   "nbconvert_exporter": "python",
   "pygments_lexer": "ipython3",
   "version": "3.9.7"
  },
  "orig_nbformat": 4
 },
 "nbformat": 4,
 "nbformat_minor": 2
}
